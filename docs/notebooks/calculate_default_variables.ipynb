{
 "cells": [
  {
   "cell_type": "markdown",
   "metadata": {},
   "source": [
    "# Calculating default variables\n",
    "\n",
    "In this notebook, we'll calculate descriptor (variable) sets 1-4:\n",
    "1. Canonical (UniProt) sequence variables.\n",
    "2. Structure (PDB) sequence variables.\n",
    "3. Structure variables (angles, distances, etc.)\n",
    "4. Ligand variables. "
   ]
  },
  {
   "cell_type": "code",
   "execution_count": 2,
   "metadata": {
    "ExecuteTime": {
     "end_time": "2023-04-02T10:53:56.565868Z",
     "start_time": "2023-04-02T10:53:53.196440Z"
    },
    "tags": []
   },
   "outputs": [],
   "source": [
    "import logging\n",
    "import warnings\n",
    "from random import sample\n",
    "from pathlib import Path\n",
    "\n",
    "# Supress import warnings\n",
    "with warnings.catch_warnings():\n",
    "    warnings.simplefilter(\"ignore\")\n",
    "    from kinactive import DefaultFeatures, DB, DBConfig"
   ]
  },
  {
   "cell_type": "markdown",
   "metadata": {},
   "source": [
    "Provide general configuration."
   ]
  },
  {
   "cell_type": "code",
   "execution_count": 3,
   "metadata": {},
   "outputs": [],
   "source": [
    "logging.basicConfig(level=logging.INFO)"
   ]
  },
  {
   "cell_type": "code",
   "execution_count": 4,
   "metadata": {
    "ExecuteTime": {
     "end_time": "2023-04-02T10:54:02.118470Z",
     "start_time": "2023-04-02T10:54:02.072567Z"
    },
    "collapsed": false,
    "jupyter": {
     "outputs_hidden": false
    }
   },
   "outputs": [],
   "source": [
    "N_PROC = 20\n",
    "N_CHAINS = 20  # Restrict the number of chains for demonstration\n",
    "\n",
    "BASE = Path('../data/variable_sets')\n",
    "BASE.mkdir(exist_ok=True)\n",
    "\n",
    "DB_PATH = Path('../data/db_v3')"
   ]
  },
  {
   "cell_type": "code",
   "execution_count": 5,
   "metadata": {},
   "outputs": [],
   "source": [
    "paths = list(DB_PATH.glob('*'))\n",
    "if N_CHAINS is not None:\n",
    "    # Sample random chains to calculate the variables on.\n",
    "    paths = sample(paths, N_CHAINS)"
   ]
  },
  {
   "cell_type": "code",
   "execution_count": 6,
   "metadata": {
    "ExecuteTime": {
     "end_time": "2023-04-02T11:08:39.893272Z",
     "start_time": "2023-04-02T10:54:03.423953Z"
    },
    "collapsed": false,
    "jupyter": {
     "outputs_hidden": false
    }
   },
   "outputs": [
    {
     "name": "stderr",
     "output_type": "stream",
     "text": [
      "INFO:kinactive.db:Got 20 initial paths to read\n"
     ]
    },
    {
     "data": {
      "application/vnd.jupyter.widget-view+json": {
       "model_id": "4933f987cc9148cba29ba972c97f7ccb",
       "version_major": 2,
       "version_minor": 0
      },
      "text/plain": [
       "Reading ChainSequence: 0it [00:00, ?it/s]"
      ]
     },
     "metadata": {},
     "output_type": "display_data"
    },
    {
     "data": {
      "application/vnd.jupyter.widget-view+json": {
       "model_id": "709c0e3734144810be3b56541211d6b8",
       "version_major": 2,
       "version_minor": 0
      },
      "text/plain": [
       "Reading ChainStructure: 0it [00:00, ?it/s]"
      ]
     },
     "metadata": {},
     "output_type": "display_data"
    },
    {
     "data": {
      "application/vnd.jupyter.widget-view+json": {
       "model_id": "2fba75d67f944fa6966a1551444c4a54",
       "version_major": 2,
       "version_minor": 0
      },
      "text/plain": [
       "Recovering ancestry for sequences and structures:   0%|          | 0/20 [00:00<?, ?it/s]"
      ]
     },
     "metadata": {},
     "output_type": "display_data"
    },
    {
     "name": "stderr",
     "output_type": "stream",
     "text": [
      "INFO:kinactive.db:Parsed 20 `Chain`s\n"
     ]
    }
   ],
   "source": [
    "db = DB(DBConfig(io_cpus=N_PROC))\n",
    "chains = db.load(paths)"
   ]
  },
  {
   "cell_type": "code",
   "execution_count": 7,
   "metadata": {
    "ExecuteTime": {
     "end_time": "2023-04-02T11:08:40.235989Z",
     "start_time": "2023-04-02T11:08:39.871038Z"
    }
   },
   "outputs": [
    {
     "data": {
      "text/plain": [
       "\u001b[0;31mSignature:\u001b[0m\n",
       "\u001b[0mvs\u001b[0m\u001b[0;34m.\u001b[0m\u001b[0mcalculate_all_vs\u001b[0m\u001b[0;34m(\u001b[0m\u001b[0;34m\u001b[0m\n",
       "\u001b[0;34m\u001b[0m    \u001b[0mchains\u001b[0m\u001b[0;34m:\u001b[0m \u001b[0mcollections\u001b[0m\u001b[0;34m.\u001b[0m\u001b[0mabc\u001b[0m\u001b[0;34m.\u001b[0m\u001b[0mSequence\u001b[0m\u001b[0;34m[\u001b[0m\u001b[0mlXtractor\u001b[0m\u001b[0;34m.\u001b[0m\u001b[0mcore\u001b[0m\u001b[0;34m.\u001b[0m\u001b[0mchain\u001b[0m\u001b[0;34m.\u001b[0m\u001b[0mchain\u001b[0m\u001b[0;34m.\u001b[0m\u001b[0mChain\u001b[0m\u001b[0;34m]\u001b[0m\u001b[0;34m,\u001b[0m\u001b[0;34m\u001b[0m\n",
       "\u001b[0;34m\u001b[0m    \u001b[0mmap_name\u001b[0m\u001b[0;34m:\u001b[0m \u001b[0mstr\u001b[0m \u001b[0;34m=\u001b[0m \u001b[0;34m'PK'\u001b[0m\u001b[0;34m,\u001b[0m\u001b[0;34m\u001b[0m\n",
       "\u001b[0;34m\u001b[0m    \u001b[0mnum_proc\u001b[0m\u001b[0;34m:\u001b[0m \u001b[0mint\u001b[0m \u001b[0;34m|\u001b[0m \u001b[0;32mNone\u001b[0m \u001b[0;34m=\u001b[0m \u001b[0;32mNone\u001b[0m\u001b[0;34m,\u001b[0m\u001b[0;34m\u001b[0m\n",
       "\u001b[0;34m\u001b[0m    \u001b[0mverbose\u001b[0m\u001b[0;34m:\u001b[0m \u001b[0mbool\u001b[0m \u001b[0;34m=\u001b[0m \u001b[0;32mTrue\u001b[0m\u001b[0;34m,\u001b[0m\u001b[0;34m\u001b[0m\n",
       "\u001b[0;34m\u001b[0m    \u001b[0mbase\u001b[0m\u001b[0;34m:\u001b[0m \u001b[0mpathlib\u001b[0m\u001b[0;34m.\u001b[0m\u001b[0mPath\u001b[0m \u001b[0;34m|\u001b[0m \u001b[0;32mNone\u001b[0m \u001b[0;34m=\u001b[0m \u001b[0;32mNone\u001b[0m\u001b[0;34m,\u001b[0m\u001b[0;34m\u001b[0m\n",
       "\u001b[0;34m\u001b[0m    \u001b[0moverwrite\u001b[0m\u001b[0;34m:\u001b[0m \u001b[0mbool\u001b[0m \u001b[0;34m=\u001b[0m \u001b[0;32mFalse\u001b[0m\u001b[0;34m,\u001b[0m\u001b[0;34m\u001b[0m\n",
       "\u001b[0;34m\u001b[0m\u001b[0;34m)\u001b[0m \u001b[0;34m->\u001b[0m \u001b[0mkinactive\u001b[0m\u001b[0;34m.\u001b[0m\u001b[0mfeatures\u001b[0m\u001b[0;34m.\u001b[0m\u001b[0mResults\u001b[0m\u001b[0;34m\u001b[0m\u001b[0;34m\u001b[0m\u001b[0m\n",
       "\u001b[0;31mDocstring:\u001b[0m\n",
       "Calculate default variables. These include four sets::\n",
       "\n",
       "    #. A default set of sequence variables for canonical sequences.\n",
       "    #. A default set of sequence variables for structure sequences.\n",
       "    #. A default set of structure variables.\n",
       "    #. A default set of ligand variables.\n",
       "\n",
       ":param chains: A sequence of chains.\n",
       ":param map_name: A reference name.\n",
       ":param num_proc: The number of CPUs to use.\n",
       ":param verbose: Display progress bar.\n",
       ":param base: Base path to save the results to. If not provided, the\n",
       "    results are returned but not saved.\n",
       ":param overwrite: Overwrite existing files. If False, will skip the\n",
       "    calculation of existing variables.\n",
       ":return: A named tuple with calculated variables' tables.\n",
       "\u001b[0;31mFile:\u001b[0m      ~/Projects/kinactive/kinactive/features.py\n",
       "\u001b[0;31mType:\u001b[0m      method"
      ]
     },
     "metadata": {},
     "output_type": "display_data"
    }
   ],
   "source": [
    "vs = DefaultFeatures()\n",
    "?vs.calculate_all_vs"
   ]
  },
  {
   "cell_type": "code",
   "execution_count": 8,
   "metadata": {
    "ExecuteTime": {
     "end_time": "2023-04-02T12:13:20.636913Z",
     "start_time": "2023-04-02T11:10:23.839811Z"
    },
    "collapsed": false,
    "jupyter": {
     "outputs_hidden": false
    }
   },
   "outputs": [
    {
     "name": "stderr",
     "output_type": "stream",
     "text": [
      "INFO:kinactive.features:Calculating sequence variables on canonical seqs\n"
     ]
    },
    {
     "data": {
      "application/vnd.jupyter.widget-view+json": {
       "model_id": "053cc486ad5248b59b7153ece21b6cba",
       "version_major": 2,
       "version_minor": 0
      },
      "text/plain": [
       "Aggregating variables: 0it [00:00, ?it/s]"
      ]
     },
     "metadata": {},
     "output_type": "display_data"
    },
    {
     "data": {
      "application/vnd.jupyter.widget-view+json": {
       "model_id": "5e21be954ada4a0392512942a74e631f",
       "version_major": 2,
       "version_minor": 0
      },
      "text/plain": [
       "Staging calculations:   0%|          | 0/20 [00:00<?, ?it/s]"
      ]
     },
     "metadata": {},
     "output_type": "display_data"
    },
    {
     "data": {
      "application/vnd.jupyter.widget-view+json": {
       "model_id": "4c9f1401f7e148ee977923b0c9a43726",
       "version_major": 2,
       "version_minor": 0
      },
      "text/plain": [
       "Calculating variables: 0it [00:00, ?it/s]"
      ]
     },
     "metadata": {},
     "output_type": "display_data"
    },
    {
     "name": "stderr",
     "output_type": "stream",
     "text": [
      "INFO:kinactive.features:Resulting shape: (20, 799)\n",
      "INFO:kinactive.features:Saved defaults_can_seq_vs.csv to ../data/variable_sets\n",
      "INFO:kinactive.features:Calculating sequence variables on structure seqs\n"
     ]
    },
    {
     "data": {
      "application/vnd.jupyter.widget-view+json": {
       "model_id": "14c0a35bdda342858d42ec9adb58b2c8",
       "version_major": 2,
       "version_minor": 0
      },
      "text/plain": [
       "Aggregating variables: 0it [00:00, ?it/s]"
      ]
     },
     "metadata": {},
     "output_type": "display_data"
    },
    {
     "data": {
      "application/vnd.jupyter.widget-view+json": {
       "model_id": "19e62c7f813f420b9120624e1765c1aa",
       "version_major": 2,
       "version_minor": 0
      },
      "text/plain": [
       "Staging calculations:   0%|          | 0/186 [00:00<?, ?it/s]"
      ]
     },
     "metadata": {},
     "output_type": "display_data"
    },
    {
     "data": {
      "application/vnd.jupyter.widget-view+json": {
       "model_id": "0beb2a041954496695ed4fea3c3bb7dd",
       "version_major": 2,
       "version_minor": 0
      },
      "text/plain": [
       "Calculating variables: 0it [00:00, ?it/s]"
      ]
     },
     "metadata": {},
     "output_type": "display_data"
    },
    {
     "name": "stderr",
     "output_type": "stream",
     "text": [
      "INFO:kinactive.features:Resulting shape: (186, 799)\n",
      "INFO:kinactive.features:Saved defaults_str_seq_vs.csv to ../data/variable_sets\n",
      "INFO:kinactive.features:Calculating ligand variables\n"
     ]
    },
    {
     "data": {
      "application/vnd.jupyter.widget-view+json": {
       "model_id": "105642ec52f54332af1b708a6d646328",
       "version_major": 2,
       "version_minor": 0
      },
      "text/plain": [
       "Aggregating variables: 0it [00:00, ?it/s]"
      ]
     },
     "metadata": {},
     "output_type": "display_data"
    },
    {
     "data": {
      "application/vnd.jupyter.widget-view+json": {
       "model_id": "9b68e05466cf475fa15832d464ea86c3",
       "version_major": 2,
       "version_minor": 0
      },
      "text/plain": [
       "Staging calculations:   0%|          | 0/186 [00:00<?, ?it/s]"
      ]
     },
     "metadata": {},
     "output_type": "display_data"
    },
    {
     "data": {
      "application/vnd.jupyter.widget-view+json": {
       "model_id": "2cef72e3b45f45039010beebf4bd0d04",
       "version_major": 2,
       "version_minor": 0
      },
      "text/plain": [
       "Calculating variables: 0it [00:00, ?it/s]"
      ]
     },
     "metadata": {},
     "output_type": "display_data"
    },
    {
     "name": "stderr",
     "output_type": "stream",
     "text": [
      "INFO:kinactive.features:Resulting shape: (186, 793)\n",
      "INFO:kinactive.features:Saved default_lig_vs.csv to ../data/variable_sets\n",
      "INFO:kinactive.features:Calculating structure variables\n"
     ]
    },
    {
     "data": {
      "application/vnd.jupyter.widget-view+json": {
       "model_id": "640f9d884f6c4db490656cc1c04c368a",
       "version_major": 2,
       "version_minor": 0
      },
      "text/plain": [
       "Aggregating variables: 0it [00:00, ?it/s]"
      ]
     },
     "metadata": {},
     "output_type": "display_data"
    },
    {
     "data": {
      "application/vnd.jupyter.widget-view+json": {
       "model_id": "063133527e734402a784fdb07a84dedb",
       "version_major": 2,
       "version_minor": 0
      },
      "text/plain": [
       "Staging calculations:   0%|          | 0/186 [00:00<?, ?it/s]"
      ]
     },
     "metadata": {},
     "output_type": "display_data"
    },
    {
     "data": {
      "application/vnd.jupyter.widget-view+json": {
       "model_id": "fa87bf9e8008450e8862546f1d801950",
       "version_major": 2,
       "version_minor": 0
      },
      "text/plain": [
       "Calculating variables: 0it [00:00, ?it/s]"
      ]
     },
     "metadata": {},
     "output_type": "display_data"
    },
    {
     "name": "stderr",
     "output_type": "stream",
     "text": [
      "INFO:kinactive.features:Resulting shape: (186, 1693)\n",
      "INFO:kinactive.features:Saved default_str_vs.csv to ../data/variable_sets\n",
      "INFO:kinactive.features:Finished calculations\n"
     ]
    }
   ],
   "source": [
    "vs_res = vs.calculate_all_vs(\n",
    "    chains.collapse_children(), num_proc=N_PROC, base=BASE, overwrite=True\n",
    ")"
   ]
  },
  {
   "cell_type": "markdown",
   "metadata": {},
   "source": [
    "Calculating all four sets on all domains takes ~1h on 20 cores."
   ]
  }
 ],
 "metadata": {
  "kernelspec": {
   "display_name": "kinactive",
   "language": "python",
   "name": "kinactive"
  },
  "language_info": {
   "codemirror_mode": {
    "name": "ipython",
    "version": 3
   },
   "file_extension": ".py",
   "mimetype": "text/x-python",
   "name": "python",
   "nbconvert_exporter": "python",
   "pygments_lexer": "ipython3",
   "version": "3.10.11"
  }
 },
 "nbformat": 4,
 "nbformat_minor": 4
}
