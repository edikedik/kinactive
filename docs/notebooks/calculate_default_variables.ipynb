{
 "cells": [
  {
   "cell_type": "markdown",
   "metadata": {},
   "source": [
    "# Calculating default variables\n",
    "\n",
    "In this notebook, we'll demonstrate how to calculate descriptor (variable) sets 1-4:\n",
    "\n",
    "1. Canonical (UniProt) sequence variables.\n",
    "2. Structure (PDB) sequence variables.\n",
    "3. Structure variables (angles, distances, etc.)\n",
    "4. Ligand variables.\n",
    "\n",
    "and custom variables for domain sequences and structures."
   ]
  },
  {
   "cell_type": "code",
   "execution_count": 1,
   "metadata": {
    "ExecuteTime": {
     "end_time": "2023-04-02T10:53:56.565868Z",
     "start_time": "2023-04-02T10:53:53.196440Z"
    },
    "tags": []
   },
   "outputs": [],
   "source": [
    "import logging\n",
    "import warnings\n",
    "from random import sample\n",
    "from pathlib import Path\n",
    "\n",
    "from kinactive import DefaultFeatures, DB, DBConfig"
   ]
  },
  {
   "cell_type": "markdown",
   "metadata": {},
   "source": [
    "## Setup"
   ]
  },
  {
   "cell_type": "code",
   "execution_count": 2,
   "metadata": {},
   "outputs": [],
   "source": [
    "logging.basicConfig(level=logging.INFO)"
   ]
  },
  {
   "cell_type": "code",
   "execution_count": 3,
   "metadata": {
    "ExecuteTime": {
     "end_time": "2023-04-02T10:54:02.118470Z",
     "start_time": "2023-04-02T10:54:02.072567Z"
    },
    "collapsed": false,
    "jupyter": {
     "outputs_hidden": false
    }
   },
   "outputs": [],
   "source": [
    "N_PROC = 15\n",
    "\n",
    "BASE = Path('../data/variable_sets-test')\n",
    "BASE.mkdir(exist_ok=True)\n",
    "\n",
    "DB_PATH = Path('../data/lXt-PK-test/')"
   ]
  },
  {
   "cell_type": "markdown",
   "metadata": {},
   "source": [
    "## Load the database"
   ]
  },
  {
   "cell_type": "code",
   "execution_count": 4,
   "metadata": {
    "ExecuteTime": {
     "end_time": "2023-04-02T11:08:39.893272Z",
     "start_time": "2023-04-02T10:54:03.423953Z"
    },
    "collapsed": false,
    "jupyter": {
     "outputs_hidden": false
    }
   },
   "outputs": [
    {
     "name": "stderr",
     "output_type": "stream",
     "text": [
      "INFO:kinactive.db:Got 3 initial paths to read\n"
     ]
    },
    {
     "data": {
      "application/vnd.jupyter.widget-view+json": {
       "model_id": "24a7231cd8904d4899ce5a9814893129",
       "version_major": 2,
       "version_minor": 0
      },
      "text/plain": [
       "Reading Chain: 0it [00:00, ?it/s]"
      ]
     },
     "metadata": {},
     "output_type": "display_data"
    },
    {
     "name": "stderr",
     "output_type": "stream",
     "text": [
      "INFO:kinactive.db:Parsed 3 `Chain`s\n"
     ]
    }
   ],
   "source": [
    "db = DB(DBConfig(io_cpus=N_PROC))\n",
    "chains = db.load(DB_PATH, domains=True)"
   ]
  },
  {
   "cell_type": "code",
   "execution_count": 5,
   "metadata": {},
   "outputs": [
    {
     "data": {
      "text/plain": [
       "([Chain(PK_1|28-316)<-(Chain(tr|O96214|O96214_PLAFA|1-320)), Chain(PK_1|119-403)<-(Chain(sp|P49840|GSK3A_HUMAN|1-483)), Chain(PK_1|44-298)<-(Chain(sp|P00517|KAPCA_BOVIN|1-351))],\n",
       " 104)"
      ]
     },
     "execution_count": 5,
     "metadata": {},
     "output_type": "execute_result"
    }
   ],
   "source": [
    "chains, len(chains.structures.drop_duplicates())"
   ]
  },
  {
   "cell_type": "markdown",
   "metadata": {},
   "source": [
    "## Calculate default variables"
   ]
  },
  {
   "cell_type": "code",
   "execution_count": 6,
   "metadata": {
    "ExecuteTime": {
     "end_time": "2023-04-02T11:08:40.235989Z",
     "start_time": "2023-04-02T11:08:39.871038Z"
    }
   },
   "outputs": [
    {
     "data": {
      "text/plain": [
       "\u001b[0;31mSignature:\u001b[0m\n",
       "\u001b[0mvs\u001b[0m\u001b[0;34m.\u001b[0m\u001b[0mcalculate_all_vs\u001b[0m\u001b[0;34m(\u001b[0m\u001b[0;34m\u001b[0m\n",
       "\u001b[0;34m\u001b[0m    \u001b[0mchains\u001b[0m\u001b[0;34m:\u001b[0m \u001b[0mcollections\u001b[0m\u001b[0;34m.\u001b[0m\u001b[0mabc\u001b[0m\u001b[0;34m.\u001b[0m\u001b[0mSequence\u001b[0m\u001b[0;34m[\u001b[0m\u001b[0mlXtractor\u001b[0m\u001b[0;34m.\u001b[0m\u001b[0mchain\u001b[0m\u001b[0;34m.\u001b[0m\u001b[0mchain\u001b[0m\u001b[0;34m.\u001b[0m\u001b[0mChain\u001b[0m\u001b[0;34m]\u001b[0m\u001b[0;34m,\u001b[0m\u001b[0;34m\u001b[0m\n",
       "\u001b[0;34m\u001b[0m    \u001b[0mmap_name\u001b[0m\u001b[0;34m:\u001b[0m \u001b[0mstr\u001b[0m \u001b[0;34m=\u001b[0m \u001b[0;34m'PK'\u001b[0m\u001b[0;34m,\u001b[0m\u001b[0;34m\u001b[0m\n",
       "\u001b[0;34m\u001b[0m    \u001b[0mnum_proc\u001b[0m\u001b[0;34m:\u001b[0m \u001b[0mint\u001b[0m \u001b[0;34m=\u001b[0m \u001b[0;36m1\u001b[0m\u001b[0;34m,\u001b[0m\u001b[0;34m\u001b[0m\n",
       "\u001b[0;34m\u001b[0m    \u001b[0mverbose\u001b[0m\u001b[0;34m:\u001b[0m \u001b[0mbool\u001b[0m \u001b[0;34m=\u001b[0m \u001b[0;32mTrue\u001b[0m\u001b[0;34m,\u001b[0m\u001b[0;34m\u001b[0m\n",
       "\u001b[0;34m\u001b[0m    \u001b[0mbase\u001b[0m\u001b[0;34m:\u001b[0m \u001b[0mpathlib\u001b[0m\u001b[0;34m.\u001b[0m\u001b[0mPath\u001b[0m \u001b[0;34m|\u001b[0m \u001b[0;32mNone\u001b[0m \u001b[0;34m=\u001b[0m \u001b[0;32mNone\u001b[0m\u001b[0;34m,\u001b[0m\u001b[0;34m\u001b[0m\n",
       "\u001b[0;34m\u001b[0m    \u001b[0moverwrite\u001b[0m\u001b[0;34m:\u001b[0m \u001b[0mbool\u001b[0m \u001b[0;34m=\u001b[0m \u001b[0;32mFalse\u001b[0m\u001b[0;34m,\u001b[0m\u001b[0;34m\u001b[0m\n",
       "\u001b[0;34m\u001b[0m\u001b[0;34m)\u001b[0m \u001b[0;34m->\u001b[0m \u001b[0mkinactive\u001b[0m\u001b[0;34m.\u001b[0m\u001b[0mfeatures\u001b[0m\u001b[0;34m.\u001b[0m\u001b[0mResults\u001b[0m\u001b[0;34m\u001b[0m\u001b[0;34m\u001b[0m\u001b[0m\n",
       "\u001b[0;31mDocstring:\u001b[0m\n",
       "Calculate default variables. These include four sets::\n",
       "\n",
       "    #. A default set of sequence variables for canonical sequences.\n",
       "    #. A default set of sequence variables for structure sequences.\n",
       "    #. A default set of structure variables.\n",
       "    #. A default set of ligand variables.\n",
       "\n",
       ":param chains: A sequence of chains.\n",
       ":param map_name: A reference name.\n",
       ":param num_proc: The number of CPUs to use.\n",
       ":param verbose: Display progress bar.\n",
       ":param base: Base path to save the results to. If not provided, the\n",
       "    results are returned but not saved.\n",
       ":param overwrite: Overwrite existing files. If False, will skip the\n",
       "    calculation of existing variables.\n",
       ":return: A named tuple with calculated variables' tables.\n",
       "\u001b[0;31mFile:\u001b[0m      ~/Projects/kinactive/kinactive/features.py\n",
       "\u001b[0;31mType:\u001b[0m      method"
      ]
     },
     "metadata": {},
     "output_type": "display_data"
    }
   ],
   "source": [
    "vs = DefaultFeatures()\n",
    "?vs.calculate_all_vs"
   ]
  },
  {
   "cell_type": "code",
   "execution_count": 7,
   "metadata": {
    "ExecuteTime": {
     "end_time": "2023-04-02T12:13:20.636913Z",
     "start_time": "2023-04-02T11:10:23.839811Z"
    },
    "collapsed": false,
    "jupyter": {
     "outputs_hidden": false
    }
   },
   "outputs": [
    {
     "name": "stderr",
     "output_type": "stream",
     "text": [
      "INFO:kinactive.features:Calculating sequence variables on canonical seqs\n"
     ]
    },
    {
     "data": {
      "application/vnd.jupyter.widget-view+json": {
       "model_id": "dc1e03bcedb640d5a67532fcbd359170",
       "version_major": 2,
       "version_minor": 0
      },
      "text/plain": [
       "Calculating variables: 0it [00:00, ?it/s]"
      ]
     },
     "metadata": {},
     "output_type": "display_data"
    },
    {
     "name": "stderr",
     "output_type": "stream",
     "text": [
      "INFO:kinactive.features:Resulting shape: (3, 799)\n",
      "INFO:kinactive.features:Saved defaults_can_seq_vs.csv to ../data/variable_sets-test\n",
      "INFO:kinactive.features:Calculating sequence variables on structure seqs\n"
     ]
    },
    {
     "data": {
      "application/vnd.jupyter.widget-view+json": {
       "model_id": "7be69e969b494f19aaf716c440ac72a6",
       "version_major": 2,
       "version_minor": 0
      },
      "text/plain": [
       "Calculating variables: 0it [00:00, ?it/s]"
      ]
     },
     "metadata": {},
     "output_type": "display_data"
    },
    {
     "name": "stderr",
     "output_type": "stream",
     "text": [
      "INFO:kinactive.features:Resulting shape: (104, 799)\n",
      "INFO:kinactive.features:Saved defaults_str_seq_vs.csv to ../data/variable_sets-test\n",
      "INFO:kinactive.features:Calculating ligand variables\n"
     ]
    },
    {
     "data": {
      "application/vnd.jupyter.widget-view+json": {
       "model_id": "6473332e141e4a94a99af03288f7be9e",
       "version_major": 2,
       "version_minor": 0
      },
      "text/plain": [
       "Calculating variables: 0it [00:00, ?it/s]"
      ]
     },
     "metadata": {},
     "output_type": "display_data"
    },
    {
     "name": "stderr",
     "output_type": "stream",
     "text": [
      "INFO:kinactive.features:Resulting shape: (104, 793)\n",
      "INFO:kinactive.features:Saved default_lig_vs.csv to ../data/variable_sets-test\n",
      "INFO:kinactive.features:Calculating structure variables\n"
     ]
    },
    {
     "data": {
      "application/vnd.jupyter.widget-view+json": {
       "model_id": "365dd1a3694b4e95a3f61ba49bdb1a9d",
       "version_major": 2,
       "version_minor": 0
      },
      "text/plain": [
       "Calculating variables: 0it [00:00, ?it/s]"
      ]
     },
     "metadata": {},
     "output_type": "display_data"
    },
    {
     "name": "stderr",
     "output_type": "stream",
     "text": [
      "INFO:kinactive.features:Resulting shape: (104, 1693)\n",
      "INFO:kinactive.features:Saved default_str_vs.csv to ../data/variable_sets-test\n",
      "INFO:kinactive.features:Finished calculations\n"
     ]
    }
   ],
   "source": [
    "vs_res = vs.calculate_all_vs(\n",
    "    chains, num_proc=N_PROC, base=BASE, overwrite=True\n",
    ")"
   ]
  },
  {
   "cell_type": "markdown",
   "metadata": {},
   "source": [
    "Calculating all four sets on all domains takes ~40min on 20 cores."
   ]
  },
  {
   "cell_type": "markdown",
   "metadata": {},
   "source": [
    "## Calculate specific variable set\n",
    "\n",
    "If one needs a specific default variable set, the following code can be used"
   ]
  },
  {
   "cell_type": "code",
   "execution_count": 8,
   "metadata": {},
   "outputs": [
    {
     "data": {
      "application/vnd.jupyter.widget-view+json": {
       "model_id": "099b49d153a54338a8dcfd11211e08e5",
       "version_major": 2,
       "version_minor": 0
      },
      "text/plain": [
       "Calculating variables: 0it [00:00, ?it/s]"
      ]
     },
     "metadata": {},
     "output_type": "display_data"
    }
   ],
   "source": [
    "# Structure variables\n",
    "vs_res = vs.calculate_str_vs(chains.structures[:5])"
   ]
  },
  {
   "cell_type": "code",
   "execution_count": 9,
   "metadata": {},
   "outputs": [
    {
     "data": {
      "application/vnd.jupyter.widget-view+json": {
       "model_id": "e0efcecde50f43d5ae6df8ad83dc4fb4",
       "version_major": 2,
       "version_minor": 0
      },
      "text/plain": [
       "Calculating variables: 0it [00:00, ?it/s]"
      ]
     },
     "metadata": {},
     "output_type": "display_data"
    }
   ],
   "source": [
    "# Sequence variables\n",
    "vs_res = vs.calculate_seq_vs(chains.sequences[:5])"
   ]
  },
  {
   "cell_type": "code",
   "execution_count": 10,
   "metadata": {},
   "outputs": [
    {
     "data": {
      "text/html": [
       "<div>\n",
       "<style scoped>\n",
       "    .dataframe tbody tr th:only-of-type {\n",
       "        vertical-align: middle;\n",
       "    }\n",
       "\n",
       "    .dataframe tbody tr th {\n",
       "        vertical-align: top;\n",
       "    }\n",
       "\n",
       "    .dataframe thead th {\n",
       "        text-align: right;\n",
       "    }\n",
       "</style>\n",
       "<table border=\"1\" class=\"dataframe\">\n",
       "  <thead>\n",
       "    <tr style=\"text-align: right;\">\n",
       "      <th></th>\n",
       "      <th>ObjectID</th>\n",
       "      <th>SeqEl(p=30,_rtype='str',seq_name='seq1')</th>\n",
       "      <th>SeqEl(p=48,_rtype='str',seq_name='seq1')</th>\n",
       "      <th>SeqEl(p=140,_rtype='str',seq_name='seq1')</th>\n",
       "      <th>SeqEl(p=141,_rtype='str',seq_name='seq1')</th>\n",
       "      <th>SeqEl(p=142,_rtype='str',seq_name='seq1')</th>\n",
       "      <th>SeqEl(p=143,_rtype='str',seq_name='seq1')</th>\n",
       "      <th>PFP(p=1,i=1)</th>\n",
       "      <th>PFP(p=1,i=2)</th>\n",
       "      <th>PFP(p=1,i=3)</th>\n",
       "      <th>...</th>\n",
       "      <th>PFP(p=261,i=3)</th>\n",
       "      <th>PFP(p=262,i=1)</th>\n",
       "      <th>PFP(p=262,i=2)</th>\n",
       "      <th>PFP(p=262,i=3)</th>\n",
       "      <th>PFP(p=263,i=1)</th>\n",
       "      <th>PFP(p=263,i=2)</th>\n",
       "      <th>PFP(p=263,i=3)</th>\n",
       "      <th>PFP(p=264,i=1)</th>\n",
       "      <th>PFP(p=264,i=2)</th>\n",
       "      <th>PFP(p=264,i=3)</th>\n",
       "    </tr>\n",
       "  </thead>\n",
       "  <tbody>\n",
       "    <tr>\n",
       "      <th>0</th>\n",
       "      <td>PK_1|28-316&lt;-(tr|O96214|O96214_PLAFA|1-320)</td>\n",
       "      <td>K</td>\n",
       "      <td>E</td>\n",
       "      <td>S</td>\n",
       "      <td>D</td>\n",
       "      <td>F</td>\n",
       "      <td>G</td>\n",
       "      <td>3.14</td>\n",
       "      <td>3.59</td>\n",
       "      <td>2.45</td>\n",
       "      <td>...</td>\n",
       "      <td>NaN</td>\n",
       "      <td>NaN</td>\n",
       "      <td>NaN</td>\n",
       "      <td>NaN</td>\n",
       "      <td>NaN</td>\n",
       "      <td>NaN</td>\n",
       "      <td>NaN</td>\n",
       "      <td>NaN</td>\n",
       "      <td>NaN</td>\n",
       "      <td>NaN</td>\n",
       "    </tr>\n",
       "    <tr>\n",
       "      <th>1</th>\n",
       "      <td>PK_1|119-403&lt;-(sp|P49840|GSK3A_HUMAN|1-483)</td>\n",
       "      <td>K</td>\n",
       "      <td>E</td>\n",
       "      <td>C</td>\n",
       "      <td>D</td>\n",
       "      <td>F</td>\n",
       "      <td>G</td>\n",
       "      <td>3.14</td>\n",
       "      <td>3.59</td>\n",
       "      <td>2.45</td>\n",
       "      <td>...</td>\n",
       "      <td>1.2</td>\n",
       "      <td>-4.57</td>\n",
       "      <td>-2.55</td>\n",
       "      <td>-0.67</td>\n",
       "      <td>6.76</td>\n",
       "      <td>0.88</td>\n",
       "      <td>0.89</td>\n",
       "      <td>6.76</td>\n",
       "      <td>0.88</td>\n",
       "      <td>0.89</td>\n",
       "    </tr>\n",
       "    <tr>\n",
       "      <th>2</th>\n",
       "      <td>PK_1|44-298&lt;-(sp|P00517|KAPCA_BOVIN|1-351)</td>\n",
       "      <td>K</td>\n",
       "      <td>E</td>\n",
       "      <td>T</td>\n",
       "      <td>D</td>\n",
       "      <td>F</td>\n",
       "      <td>G</td>\n",
       "      <td>6.76</td>\n",
       "      <td>0.88</td>\n",
       "      <td>0.89</td>\n",
       "      <td>...</td>\n",
       "      <td>1.2</td>\n",
       "      <td>-4.99</td>\n",
       "      <td>5.00</td>\n",
       "      <td>0.70</td>\n",
       "      <td>7.33</td>\n",
       "      <td>4.55</td>\n",
       "      <td>2.77</td>\n",
       "      <td>6.76</td>\n",
       "      <td>0.88</td>\n",
       "      <td>0.89</td>\n",
       "    </tr>\n",
       "  </tbody>\n",
       "</table>\n",
       "<p>3 rows × 799 columns</p>\n",
       "</div>"
      ],
      "text/plain": [
       "                                      ObjectID  \\\n",
       "0  PK_1|28-316<-(tr|O96214|O96214_PLAFA|1-320)   \n",
       "1  PK_1|119-403<-(sp|P49840|GSK3A_HUMAN|1-483)   \n",
       "2   PK_1|44-298<-(sp|P00517|KAPCA_BOVIN|1-351)   \n",
       "\n",
       "  SeqEl(p=30,_rtype='str',seq_name='seq1')  \\\n",
       "0                                        K   \n",
       "1                                        K   \n",
       "2                                        K   \n",
       "\n",
       "  SeqEl(p=48,_rtype='str',seq_name='seq1')  \\\n",
       "0                                        E   \n",
       "1                                        E   \n",
       "2                                        E   \n",
       "\n",
       "  SeqEl(p=140,_rtype='str',seq_name='seq1')  \\\n",
       "0                                         S   \n",
       "1                                         C   \n",
       "2                                         T   \n",
       "\n",
       "  SeqEl(p=141,_rtype='str',seq_name='seq1')  \\\n",
       "0                                         D   \n",
       "1                                         D   \n",
       "2                                         D   \n",
       "\n",
       "  SeqEl(p=142,_rtype='str',seq_name='seq1')  \\\n",
       "0                                         F   \n",
       "1                                         F   \n",
       "2                                         F   \n",
       "\n",
       "  SeqEl(p=143,_rtype='str',seq_name='seq1')  PFP(p=1,i=1)  PFP(p=1,i=2)  \\\n",
       "0                                         G          3.14          3.59   \n",
       "1                                         G          3.14          3.59   \n",
       "2                                         G          6.76          0.88   \n",
       "\n",
       "   PFP(p=1,i=3)  ...  PFP(p=261,i=3)  PFP(p=262,i=1)  PFP(p=262,i=2)  \\\n",
       "0          2.45  ...             NaN             NaN             NaN   \n",
       "1          2.45  ...             1.2           -4.57           -2.55   \n",
       "2          0.89  ...             1.2           -4.99            5.00   \n",
       "\n",
       "   PFP(p=262,i=3)  PFP(p=263,i=1)  PFP(p=263,i=2)  PFP(p=263,i=3)  \\\n",
       "0             NaN             NaN             NaN             NaN   \n",
       "1           -0.67            6.76            0.88            0.89   \n",
       "2            0.70            7.33            4.55            2.77   \n",
       "\n",
       "   PFP(p=264,i=1)  PFP(p=264,i=2)  PFP(p=264,i=3)  \n",
       "0             NaN             NaN             NaN  \n",
       "1            6.76            0.88            0.89  \n",
       "2            6.76            0.88            0.89  \n",
       "\n",
       "[3 rows x 799 columns]"
      ]
     },
     "execution_count": 10,
     "metadata": {},
     "output_type": "execute_result"
    }
   ],
   "source": [
    "vs_res.head()"
   ]
  },
  {
   "cell_type": "markdown",
   "metadata": {},
   "source": [
    "## Calculate custom variables\n",
    "\n",
    "One can define and calculate custom variables. They are handled by the [lXtractor package](https://lxtractor.readthedocs.io/en/latest/lXtractor.variables.html).\n",
    "\n",
    "First, let's calculate the number of missing residues and the number of phosphotyrosines within the activation loop for each structure sequence."
   ]
  },
  {
   "cell_type": "code",
   "execution_count": 11,
   "metadata": {},
   "outputs": [],
   "source": [
    "from kinactive.features import calculate\n",
    "import lXtractor.variables as lxv"
   ]
  },
  {
   "cell_type": "code",
   "execution_count": 12,
   "metadata": {},
   "outputs": [],
   "source": [
    "def missing(numbering):\n",
    "    \"\"\"\n",
    "    Count the number of non-consecutive elements in numbering.\n",
    "    \"\"\"\n",
    "    ns = list(numbering)\n",
    "    return [ns[i] != (ns[i - 1] + 1) for i in range(1, len(ns))]"
   ]
  },
  {
   "cell_type": "code",
   "execution_count": 13,
   "metadata": {},
   "outputs": [
    {
     "data": {
      "text/plain": [
       "[SliceMissingCount(start=143,stop=170,step=None,seq_name='numbering')]"
      ]
     },
     "execution_count": 13,
     "metadata": {},
     "output_type": "execute_result"
    }
   ],
   "source": [
    "vs = [\n",
    "    lxv.make_str(\n",
    "        reduce=sum, \n",
    "        transform=missing, \n",
    "        reduce_name='Count',\n",
    "        rtype=int,\n",
    "    )(143, 170, seq_name='numbering'),\n",
    "]\n",
    "vs"
   ]
  },
  {
   "cell_type": "code",
   "execution_count": 14,
   "metadata": {},
   "outputs": [
    {
     "data": {
      "application/vnd.jupyter.widget-view+json": {
       "model_id": "0b417083374c42eaafe682e78a5cde61",
       "version_major": 2,
       "version_minor": 0
      },
      "text/plain": [
       "Calculating variables: 0it [00:00, ?it/s]"
      ]
     },
     "metadata": {},
     "output_type": "display_data"
    },
    {
     "data": {
      "text/plain": [
       "0"
      ]
     },
     "execution_count": 14,
     "metadata": {},
     "output_type": "execute_result"
    }
   ],
   "source": [
    "vs_res = calculate(\n",
    "    chains.structure_sequences.drop_duplicates(), \n",
    "    vs, map_name='PK', seq_name='numbering'\n",
    ")\n",
    "len(vs_res[vs_res[vs[0].id] > 0])"
   ]
  },
  {
   "cell_type": "code",
   "execution_count": 15,
   "metadata": {},
   "outputs": [
    {
     "data": {
      "text/plain": [
       "[SliceIsphosphotyrCount(start=143,stop=170,step=None,seq_name='seq3')]"
      ]
     },
     "execution_count": 15,
     "metadata": {},
     "output_type": "execute_result"
    }
   ],
   "source": [
    "vs = [\n",
    "    lxv.make_str(\n",
    "        reduce=sum, \n",
    "        transform=lambda xs: (x == 'PTR' for x in xs), \n",
    "        transform_name='isphosphotyr',\n",
    "        reduce_name='count',\n",
    "        rtype=int,\n",
    "    )(143, 170, seq_name='seq3'),\n",
    "]\n",
    "vs"
   ]
  },
  {
   "cell_type": "code",
   "execution_count": 16,
   "metadata": {},
   "outputs": [
    {
     "data": {
      "application/vnd.jupyter.widget-view+json": {
       "model_id": "4ea6f94e1e6640c395292224a494248d",
       "version_major": 2,
       "version_minor": 0
      },
      "text/plain": [
       "Calculating variables: 0it [00:00, ?it/s]"
      ]
     },
     "metadata": {},
     "output_type": "display_data"
    },
    {
     "data": {
      "text/html": [
       "<div>\n",
       "<style scoped>\n",
       "    .dataframe tbody tr th:only-of-type {\n",
       "        vertical-align: middle;\n",
       "    }\n",
       "\n",
       "    .dataframe tbody tr th {\n",
       "        vertical-align: top;\n",
       "    }\n",
       "\n",
       "    .dataframe thead th {\n",
       "        text-align: right;\n",
       "    }\n",
       "</style>\n",
       "<table border=\"1\" class=\"dataframe\">\n",
       "  <thead>\n",
       "    <tr style=\"text-align: right;\">\n",
       "      <th></th>\n",
       "      <th>ObjectID</th>\n",
       "      <th>SliceIsphosphotyrCount(start=143,stop=170,step=None,seq_name='seq3')</th>\n",
       "    </tr>\n",
       "  </thead>\n",
       "  <tbody>\n",
       "    <tr>\n",
       "      <th>1</th>\n",
       "      <td>PK_1|19-298&lt;-(7SXF:A|1-340)</td>\n",
       "      <td>1</td>\n",
       "    </tr>\n",
       "    <tr>\n",
       "      <th>2</th>\n",
       "      <td>PK_1|14-292&lt;-(7SXG:A|1-334)</td>\n",
       "      <td>1</td>\n",
       "    </tr>\n",
       "  </tbody>\n",
       "</table>\n",
       "</div>"
      ],
      "text/plain": [
       "                      ObjectID  \\\n",
       "1  PK_1|19-298<-(7SXF:A|1-340)   \n",
       "2  PK_1|14-292<-(7SXG:A|1-334)   \n",
       "\n",
       "   SliceIsphosphotyrCount(start=143,stop=170,step=None,seq_name='seq3')  \n",
       "1                                                  1                     \n",
       "2                                                  1                     "
      ]
     },
     "execution_count": 16,
     "metadata": {},
     "output_type": "execute_result"
    }
   ],
   "source": [
    "vs_res = calculate(\n",
    "    chains.structure_sequences.drop_duplicates(), \n",
    "    vs, map_name='PK', seq_name='seq3'\n",
    ")\n",
    "vs_res[vs_res[vs[0].id] > 0]"
   ]
  },
  {
   "cell_type": "markdown",
   "metadata": {},
   "source": [
    "Let's also calculate the distance between CB atoms of the DFG-Phe and beta-3 Lys and plot the obtained distribution."
   ]
  },
  {
   "cell_type": "code",
   "execution_count": 17,
   "metadata": {},
   "outputs": [
    {
     "data": {
      "text/plain": [
       "[Dist(p1=30,p2=52,a1='CB',a2='CB',com=False)]"
      ]
     },
     "execution_count": 17,
     "metadata": {},
     "output_type": "execute_result"
    }
   ],
   "source": [
    "vs = [\n",
    "    lxv.Dist(30, 52, 'CB', 'CB')\n",
    "]\n",
    "vs"
   ]
  },
  {
   "cell_type": "code",
   "execution_count": 18,
   "metadata": {},
   "outputs": [
    {
     "data": {
      "application/vnd.jupyter.widget-view+json": {
       "model_id": "c79eafc948cf4a788ad4bb5bd25378c4",
       "version_major": 2,
       "version_minor": 0
      },
      "text/plain": [
       "Calculating variables: 0it [00:00, ?it/s]"
      ]
     },
     "metadata": {},
     "output_type": "display_data"
    },
    {
     "data": {
      "text/plain": [
       "<Axes: >"
      ]
     },
     "execution_count": 18,
     "metadata": {},
     "output_type": "execute_result"
    },
    {
     "data": {
      "image/png": "[encoded data removed]",
      "text/plain": [
       "<Figure size 640x480 with 1 Axes>"
      ]
     },
     "metadata": {},
     "output_type": "display_data"
    }
   ],
   "source": [
    "vs_res = calculate(\n",
    "    chains.structures.drop_duplicates(), \n",
    "    vs, map_name='PK', seq_name='seq3'\n",
    ")\n",
    "vs_res[vs[0].id].hist(bins=20)"
   ]
  }
 ],
 "metadata": {
  "kernelspec": {
   "display_name": "discriminators",
   "language": "python",
   "name": "discriminators"
  },
  "language_info": {
   "codemirror_mode": {
    "name": "ipython",
    "version": 3
   },
   "file_extension": ".py",
   "mimetype": "text/x-python",
   "name": "python",
   "nbconvert_exporter": "python",
   "pygments_lexer": "ipython3",
   "version": "3.10.12"
  }
 },
 "nbformat": 4,
 "nbformat_minor": 4
}
