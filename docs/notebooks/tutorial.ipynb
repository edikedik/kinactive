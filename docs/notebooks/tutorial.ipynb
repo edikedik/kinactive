{
 "cells": [
  {
   "cell_type": "markdown",
   "id": "c1463dcd-a947-4c14-b1bb-3b84d925552a",
   "metadata": {},
   "source": [
    "# KinActive+lXtractor tutorial\n",
    "\n",
    "In this tutorial we'll demonstrate how to parse/prepare and annotate PK domains' conformational states.\n",
    "\n"
   ]
  },
  {
   "cell_type": "code",
   "execution_count": 1,
   "id": "e77600df-3166-477d-883c-1a2690ac9ea4",
   "metadata": {},
   "outputs": [
    {
     "name": "stderr",
     "output_type": "stream",
     "text": [
      "/home/edik/miniconda3/envs/kinactive/lib/python3.10/site-packages/numpy/core/getlimits.py:518: UserWarning: The value of the smallest subnormal for <class 'numpy.float64'> type is zero.\n",
      "  setattr(self, word, getattr(machar, word).flat[0])\n",
      "/home/edik/miniconda3/envs/kinactive/lib/python3.10/site-packages/numpy/core/getlimits.py:89: UserWarning: The value of the smallest subnormal for <class 'numpy.float64'> type is zero.\n",
      "  return self._float_to_str(self.smallest_subnormal)\n",
      "/home/edik/miniconda3/envs/kinactive/lib/python3.10/site-packages/shap/utils/_clustering.py:35: NumbaDeprecationWarning: The 'nopython' keyword argument was not supplied to the 'numba.jit' decorator. The implicit default value for this argument is currently False, but it will be changed to True in Numba 0.59.0. See https://numba.readthedocs.io/en/stable/reference/deprecation.html#deprecation-of-object-mode-fall-back-behaviour-when-using-jit for details.\n",
      "  def _pt_shuffle_rec(i, indexes, index_mask, partition_tree, M, pos):\n",
      "/home/edik/miniconda3/envs/kinactive/lib/python3.10/site-packages/shap/utils/_clustering.py:54: NumbaDeprecationWarning: The 'nopython' keyword argument was not supplied to the 'numba.jit' decorator. The implicit default value for this argument is currently False, but it will be changed to True in Numba 0.59.0. See https://numba.readthedocs.io/en/stable/reference/deprecation.html#deprecation-of-object-mode-fall-back-behaviour-when-using-jit for details.\n",
      "  def delta_minimization_order(all_masks, max_swap_size=100, num_passes=2):\n",
      "/home/edik/miniconda3/envs/kinactive/lib/python3.10/site-packages/shap/utils/_clustering.py:63: NumbaDeprecationWarning: The 'nopython' keyword argument was not supplied to the 'numba.jit' decorator. The implicit default value for this argument is currently False, but it will be changed to True in Numba 0.59.0. See https://numba.readthedocs.io/en/stable/reference/deprecation.html#deprecation-of-object-mode-fall-back-behaviour-when-using-jit for details.\n",
      "  def _reverse_window(order, start, length):\n",
      "/home/edik/miniconda3/envs/kinactive/lib/python3.10/site-packages/shap/utils/_clustering.py:69: NumbaDeprecationWarning: The 'nopython' keyword argument was not supplied to the 'numba.jit' decorator. The implicit default value for this argument is currently False, but it will be changed to True in Numba 0.59.0. See https://numba.readthedocs.io/en/stable/reference/deprecation.html#deprecation-of-object-mode-fall-back-behaviour-when-using-jit for details.\n",
      "  def _reverse_window_score_gain(masks, order, start, length):\n",
      "/home/edik/miniconda3/envs/kinactive/lib/python3.10/site-packages/shap/utils/_clustering.py:77: NumbaDeprecationWarning: The 'nopython' keyword argument was not supplied to the 'numba.jit' decorator. The implicit default value for this argument is currently False, but it will be changed to True in Numba 0.59.0. See https://numba.readthedocs.io/en/stable/reference/deprecation.html#deprecation-of-object-mode-fall-back-behaviour-when-using-jit for details.\n",
      "  def _mask_delta_score(m1, m2):\n",
      "/home/edik/miniconda3/envs/kinactive/lib/python3.10/site-packages/shap/links.py:5: NumbaDeprecationWarning: The 'nopython' keyword argument was not supplied to the 'numba.jit' decorator. The implicit default value for this argument is currently False, but it will be changed to True in Numba 0.59.0. See https://numba.readthedocs.io/en/stable/reference/deprecation.html#deprecation-of-object-mode-fall-back-behaviour-when-using-jit for details.\n",
      "  def identity(x):\n",
      "/home/edik/miniconda3/envs/kinactive/lib/python3.10/site-packages/shap/links.py:10: NumbaDeprecationWarning: The 'nopython' keyword argument was not supplied to the 'numba.jit' decorator. The implicit default value for this argument is currently False, but it will be changed to True in Numba 0.59.0. See https://numba.readthedocs.io/en/stable/reference/deprecation.html#deprecation-of-object-mode-fall-back-behaviour-when-using-jit for details.\n",
      "  def _identity_inverse(x):\n",
      "/home/edik/miniconda3/envs/kinactive/lib/python3.10/site-packages/shap/links.py:15: NumbaDeprecationWarning: The 'nopython' keyword argument was not supplied to the 'numba.jit' decorator. The implicit default value for this argument is currently False, but it will be changed to True in Numba 0.59.0. See https://numba.readthedocs.io/en/stable/reference/deprecation.html#deprecation-of-object-mode-fall-back-behaviour-when-using-jit for details.\n",
      "  def logit(x):\n",
      "/home/edik/miniconda3/envs/kinactive/lib/python3.10/site-packages/shap/links.py:20: NumbaDeprecationWarning: The 'nopython' keyword argument was not supplied to the 'numba.jit' decorator. The implicit default value for this argument is currently False, but it will be changed to True in Numba 0.59.0. See https://numba.readthedocs.io/en/stable/reference/deprecation.html#deprecation-of-object-mode-fall-back-behaviour-when-using-jit for details.\n",
      "  def _logit_inverse(x):\n",
      "/home/edik/miniconda3/envs/kinactive/lib/python3.10/site-packages/shap/utils/_masked_model.py:363: NumbaDeprecationWarning: The 'nopython' keyword argument was not supplied to the 'numba.jit' decorator. The implicit default value for this argument is currently False, but it will be changed to True in Numba 0.59.0. See https://numba.readthedocs.io/en/stable/reference/deprecation.html#deprecation-of-object-mode-fall-back-behaviour-when-using-jit for details.\n",
      "  def _build_fixed_single_output(averaged_outs, last_outs, outputs, batch_positions, varying_rows, num_varying_rows, link, linearizing_weights):\n",
      "/home/edik/miniconda3/envs/kinactive/lib/python3.10/site-packages/shap/utils/_masked_model.py:385: NumbaDeprecationWarning: The 'nopython' keyword argument was not supplied to the 'numba.jit' decorator. The implicit default value for this argument is currently False, but it will be changed to True in Numba 0.59.0. See https://numba.readthedocs.io/en/stable/reference/deprecation.html#deprecation-of-object-mode-fall-back-behaviour-when-using-jit for details.\n",
      "  def _build_fixed_multi_output(averaged_outs, last_outs, outputs, batch_positions, varying_rows, num_varying_rows, link, linearizing_weights):\n",
      "/home/edik/miniconda3/envs/kinactive/lib/python3.10/site-packages/shap/utils/_masked_model.py:428: NumbaDeprecationWarning: The 'nopython' keyword argument was not supplied to the 'numba.jit' decorator. The implicit default value for this argument is currently False, but it will be changed to True in Numba 0.59.0. See https://numba.readthedocs.io/en/stable/reference/deprecation.html#deprecation-of-object-mode-fall-back-behaviour-when-using-jit for details.\n",
      "  def _init_masks(cluster_matrix, M, indices_row_pos, indptr):\n",
      "/home/edik/miniconda3/envs/kinactive/lib/python3.10/site-packages/shap/utils/_masked_model.py:439: NumbaDeprecationWarning: The 'nopython' keyword argument was not supplied to the 'numba.jit' decorator. The implicit default value for this argument is currently False, but it will be changed to True in Numba 0.59.0. See https://numba.readthedocs.io/en/stable/reference/deprecation.html#deprecation-of-object-mode-fall-back-behaviour-when-using-jit for details.\n",
      "  def _rec_fill_masks(cluster_matrix, indices_row_pos, indptr, indices, M, ind):\n",
      "/home/edik/miniconda3/envs/kinactive/lib/python3.10/site-packages/shap/maskers/_tabular.py:186: NumbaDeprecationWarning: The 'nopython' keyword argument was not supplied to the 'numba.jit' decorator. The implicit default value for this argument is currently False, but it will be changed to True in Numba 0.59.0. See https://numba.readthedocs.io/en/stable/reference/deprecation.html#deprecation-of-object-mode-fall-back-behaviour-when-using-jit for details.\n",
      "  def _single_delta_mask(dind, masked_inputs, last_mask, data, x, noop_code):\n",
      "/home/edik/miniconda3/envs/kinactive/lib/python3.10/site-packages/shap/maskers/_tabular.py:197: NumbaDeprecationWarning: The 'nopython' keyword argument was not supplied to the 'numba.jit' decorator. The implicit default value for this argument is currently False, but it will be changed to True in Numba 0.59.0. See https://numba.readthedocs.io/en/stable/reference/deprecation.html#deprecation-of-object-mode-fall-back-behaviour-when-using-jit for details.\n",
      "  def _delta_masking(masks, x, curr_delta_inds, varying_rows_out,\n",
      "/home/edik/miniconda3/envs/kinactive/lib/python3.10/site-packages/shap/maskers/_image.py:175: NumbaDeprecationWarning: The 'nopython' keyword argument was not supplied to the 'numba.jit' decorator. The implicit default value for this argument is currently False, but it will be changed to True in Numba 0.59.0. See https://numba.readthedocs.io/en/stable/reference/deprecation.html#deprecation-of-object-mode-fall-back-behaviour-when-using-jit for details.\n",
      "  def _jit_build_partition_tree(xmin, xmax, ymin, ymax, zmin, zmax, total_ywidth, total_zwidth, M, clustering, q):\n",
      "/home/edik/miniconda3/envs/kinactive/lib/python3.10/site-packages/shap/explainers/_partition.py:676: NumbaDeprecationWarning: The 'nopython' keyword argument was not supplied to the 'numba.jit' decorator. The implicit default value for this argument is currently False, but it will be changed to True in Numba 0.59.0. See https://numba.readthedocs.io/en/stable/reference/deprecation.html#deprecation-of-object-mode-fall-back-behaviour-when-using-jit for details.\n",
      "  def lower_credit(i, value, M, values, clustering):\n",
      "The 'nopython' keyword argument was not supplied to the 'numba.jit' decorator. The implicit default value for this argument is currently False, but it will be changed to True in Numba 0.59.0. See https://numba.readthedocs.io/en/stable/reference/deprecation.html#deprecation-of-object-mode-fall-back-behaviour-when-using-jit for details.\n",
      "The 'nopython' keyword argument was not supplied to the 'numba.jit' decorator. The implicit default value for this argument is currently False, but it will be changed to True in Numba 0.59.0. See https://numba.readthedocs.io/en/stable/reference/deprecation.html#deprecation-of-object-mode-fall-back-behaviour-when-using-jit for details.\n"
     ]
    }
   ],
   "source": [
    "from itertools import chain\n",
    "from pathlib import Path\n",
    "from tempfile import TemporaryDirectory\n",
    "\n",
    "from lXtractor.core.chain import ChainIO, ChainInitializer, ChainList, recover as recover_tree\n",
    "from lXtractor.ext import AlphaFold, PDB, PyHMMer\n",
    "from lXtractor.variables.structural import *\n",
    "from kinactive import DBConfig, load_dfg, load_kinactive, calculate"
   ]
  },
  {
   "cell_type": "markdown",
   "id": "8936d559-ef4f-4dcb-b13d-16de48343acd",
   "metadata": {},
   "source": [
    "## Obtaining and preparing initial data\n",
    "\n",
    "For simplicity, unlike during the creation of the lXt-PK collection, we'll omit using canonical UniProt sequences and extract and annotate PK domains from arbitrary PK structures.\n",
    "\n",
    "There are various ways to obtain the initial structures:\n",
    "1. From local files.\n",
    "2. From PDB.\n",
    "3. From AlphaFold database.\n",
    "\n",
    "In each case, we'll need to obtain the objects of a class ``ChainStructure``: a container class encapsulating structure and sequence data."
   ]
  },
  {
   "cell_type": "markdown",
   "id": "4349af02-6197-4460-aa39-7bd0accf8e8f",
   "metadata": {},
   "source": [
    "### 1. Parsing local files\n",
    "\n",
    "Here, we'll show how to parse locally stored structures. This could be done by first reading these files into a ``GenericStructure`` and supplying the result to ``ChainStructure.from_structure()`` method. However, to generalize the case to as many structures as desired, we'll use ``ChainInitializer`` class to handle parsing the structures. There are several things to note regarding the initialization process.\n",
    "\n",
    "- `ChainInitializer` will recognize the \".cif\" format.\n",
    "- It will read structures and split them into polymer chains.\n",
    "    - => This is required to initialize a `ChainStructure` as it encompasses `ChainSequence` and `GenericStructure` holding a single polymer sequence and coordinates.\n",
    "    - => If a structure had chains A and B, there will be two `ChainStructures` initialized from it.  \n",
    "- Increasing `num_proc` for `ChainInitializer` parallelizes over the provided inputs."
   ]
  },
  {
   "cell_type": "code",
   "execution_count": 2,
   "id": "d0d7ae53-22cd-4e94-b929-8aee7eba0a42",
   "metadata": {},
   "outputs": [],
   "source": [
    "# my_structures is a dir that stores structures in a .cif format\n",
    "LOCAL_FILES = Path('my_structures/').glob('*.cif')"
   ]
  },
  {
   "cell_type": "code",
   "execution_count": 3,
   "id": "1dc3c7e5-c96f-4200-b350-9398fba13551",
   "metadata": {},
   "outputs": [],
   "source": [
    "init = ChainInitializer(verbose=True)"
   ]
  },
  {
   "cell_type": "code",
   "execution_count": 4,
   "id": "7e49d3fb-0f65-4953-9327-630ec130d726",
   "metadata": {},
   "outputs": [
    {
     "data": {
      "application/vnd.jupyter.widget-view+json": {
       "model_id": "6d98f05f07b5411788cb02077b851169",
       "version_major": 2,
       "version_minor": 0
      },
      "text/plain": [
       "Initializing objects: 0it [00:00, ?it/s]"
      ]
     },
     "metadata": {},
     "output_type": "display_data"
    }
   ],
   "source": [
    "structures = ChainList(init.from_iterable(LOCAL_FILES))"
   ]
  },
  {
   "cell_type": "markdown",
   "id": "f0c3713b-4172-448f-a0ec-e5b0f9b9add6",
   "metadata": {},
   "source": [
    "### 2. Fetching PDB structures\n",
    "\n",
    "For demonstration, we'll fetch PDB structures of two Src kinases.\n",
    "\n",
    "For this, we'll use the `PDB` and `AlphaFold` interfaces. They are very similar. Thus, we'll use a single function to fetch and parse the structures."
   ]
  },
  {
   "cell_type": "code",
   "execution_count": 5,
   "id": "22a08227-8100-454e-961f-f2044fe61947",
   "metadata": {},
   "outputs": [],
   "source": [
    "def fetch_and_parse_structures(\n",
    "    codes, fetcher, init=ChainInitializer(verbose=True), **kwargs\n",
    "):\n",
    "    with TemporaryDirectory() as tmp_dir:\n",
    "        tmp_dir = Path(tmp_dir)\n",
    "        fetched, failed = fetcher.fetch_structures(codes, dir_=tmp_dir)\n",
    "        print(f'Files fetched: {fetched}; missed: {failed}')\n",
    "        parsed = init.from_iterable(tmp_dir.glob('*.cif'), **kwargs)\n",
    "        structures = ChainList(chain.from_iterable(parsed))\n",
    "    return structures"
   ]
  },
  {
   "cell_type": "code",
   "execution_count": 6,
   "id": "de6a03ea-c32a-4308-91a6-fb5ec594fdeb",
   "metadata": {},
   "outputs": [],
   "source": [
    "PDB_CODES = [\n",
    "    '2SRC', '2OIQ'\n",
    "]"
   ]
  },
  {
   "cell_type": "code",
   "execution_count": 7,
   "id": "7cceaa17-556d-4fcb-b2e2-f9c71acd6244",
   "metadata": {},
   "outputs": [
    {
     "data": {
      "application/vnd.jupyter.widget-view+json": {
       "model_id": "29d9b244679746d8a21ad95cd4b105bb",
       "version_major": 2,
       "version_minor": 0
      },
      "text/plain": [
       "Fetching trials:   0%|          | 0/1 [00:00<?, ?it/s]"
      ]
     },
     "metadata": {},
     "output_type": "display_data"
    },
    {
     "data": {
      "application/vnd.jupyter.widget-view+json": {
       "model_id": "52ed78c93b484c938758cb710777d3ed",
       "version_major": 2,
       "version_minor": 0
      },
      "text/plain": [
       "Fetching:   0%|          | 0/2 [00:00<?, ?it/s]"
      ]
     },
     "metadata": {},
     "output_type": "display_data"
    },
    {
     "name": "stdout",
     "output_type": "stream",
     "text": [
      "Files fetched: [(('2SRC', 'cif'), PosixPath('/tmp/tmpkvk8tcfo/2SRC.cif')), (('2OIQ', 'cif'), PosixPath('/tmp/tmpkvk8tcfo/2OIQ.cif'))]; missed: []\n"
     ]
    },
    {
     "data": {
      "application/vnd.jupyter.widget-view+json": {
       "model_id": "b6f04c26a5984f85ac58717e3e76a917",
       "version_major": 2,
       "version_minor": 0
      },
      "text/plain": [
       "Initializing objects: 0it [00:00, ?it/s]"
      ]
     },
     "metadata": {},
     "output_type": "display_data"
    }
   ],
   "source": [
    "structures = fetch_and_parse_structures(\n",
    "    PDB_CODES, PDB(num_threads=2, verbose=True)\n",
    ")"
   ]
  },
  {
   "cell_type": "markdown",
   "id": "973fbabd-6239-450f-9c5c-19dca6aacbe8",
   "metadata": {},
   "source": [
    "### 3. Fetching AlphaFold structures"
   ]
  },
  {
   "cell_type": "code",
   "execution_count": 8,
   "id": "c5a12796-3446-43c0-a38a-4b19834ac143",
   "metadata": {},
   "outputs": [],
   "source": [
    "UNIPROT_CODES = [\n",
    "    'P00519',  # Abl1\n",
    "    'O60674',  # Jak2\n",
    "]"
   ]
  },
  {
   "cell_type": "code",
   "execution_count": 9,
   "id": "3564974f-c221-4009-999f-fedb10e6cb08",
   "metadata": {},
   "outputs": [
    {
     "data": {
      "application/vnd.jupyter.widget-view+json": {
       "model_id": "0ddb284b1fdc4f919e2b15cff1d332fa",
       "version_major": 2,
       "version_minor": 0
      },
      "text/plain": [
       "Fetching trials:   0%|          | 0/1 [00:00<?, ?it/s]"
      ]
     },
     "metadata": {},
     "output_type": "display_data"
    },
    {
     "data": {
      "application/vnd.jupyter.widget-view+json": {
       "model_id": "af4f0f4208b644519693a9398d502a3b",
       "version_major": 2,
       "version_minor": 0
      },
      "text/plain": [
       "Fetching:   0%|          | 0/2 [00:00<?, ?it/s]"
      ]
     },
     "metadata": {},
     "output_type": "display_data"
    },
    {
     "name": "stdout",
     "output_type": "stream",
     "text": [
      "Files fetched: [(('P00519', 'cif'), PosixPath('/tmp/tmpx6k39spg/P00519.cif')), (('O60674', 'cif'), PosixPath('/tmp/tmpx6k39spg/O60674.cif'))]; missed: []\n"
     ]
    },
    {
     "data": {
      "application/vnd.jupyter.widget-view+json": {
       "model_id": "d55c3451aad74173bc8fb4f204306e1c",
       "version_major": 2,
       "version_minor": 0
      },
      "text/plain": [
       "Initializing objects: 0it [00:00, ?it/s]"
      ]
     },
     "metadata": {},
     "output_type": "display_data"
    }
   ],
   "source": [
    "structures = fetch_and_parse_structures(\n",
    "    UNIPROT_CODES, AlphaFold(num_threads=2, verbose=True)\n",
    ")"
   ]
  },
  {
   "cell_type": "markdown",
   "id": "1dbd5e8c-bd9f-4bfb-9fb9-0b190653fee8",
   "metadata": {},
   "source": [
    "## Extracting PK domains\n",
    "\n",
    "If you execute cells in order, the `structures` will be a `ChainList` with the predicted structures of Abl1 and Jak2 protein kinases.\n",
    "It behaves like a regular list, but has some additional useful methods defined for `Chain*`-type objects, like the `ChainStructure`-type objects here."
   ]
  },
  {
   "cell_type": "code",
   "execution_count": 10,
   "id": "17835c97-f504-4e33-8536-f8c795a01e8e",
   "metadata": {},
   "outputs": [
    {
     "data": {
      "text/plain": [
       "[ChainStructure(P00519:A|1-1130), ChainStructure(O60674:A|1-1132)]"
      ]
     },
     "execution_count": 10,
     "metadata": {},
     "output_type": "execute_result"
    }
   ],
   "source": [
    "structures"
   ]
  },
  {
   "cell_type": "markdown",
   "id": "738dcdb3-895f-4b71-b8bc-4e7eea38776d",
   "metadata": {},
   "source": [
    "Next, we'll use `PyHMMer` to extract domain sequences from the obtained structures.\n",
    "\n",
    "Each `ChainStructure` contains `.seq` attribute with `ChainSequence` corresponding to the PDB structure chain's sequence, which `PyHMMer` will use to extract the domain sequence from. The discovered domain boundaries will enable subsetting the array with coordinates. Internally, this is handled by the `ChainStructure.spawn_child()` method. Each `Chain*`-type object (`Chain`, `ChainSequence`, and `ChainStructure`) has this method."
   ]
  },
  {
   "cell_type": "code",
   "execution_count": 11,
   "id": "26aa4a5c-1a5c-4f7a-a7c7-cb5939d6a4f0",
   "metadata": {},
   "outputs": [
    {
     "data": {
      "text/plain": [
       "DBConfig(verbose=True, target_dir=PosixPath('db'), pdb_dir=PosixPath('pdb/structures'), pdb_dir_info=PosixPath('pdb/info'), seq_dir=PosixPath('uniprot/fasta'), max_fetch_trials=2, io_cpus=1, init_cpus=1, init_map_numbering_cpus=1, profile=PosixPath('/home/edik/Projects/kinactive/kinactive/resources/Pkinase.hmm'), pk_map_name='PK', pk_min_score=50, pk_min_seq_domain_size=150, pk_min_str_domain_size=100, pk_min_cov_hmm=0.7, pk_min_cov_seq=0.7, pk_min_str_seq_match=0.9, min_seq_size=150, max_seq_size=3000, pdb_fmt='cif', pdb_num_fetch_threads=10, pdb_str_min_size=100, uniprot_chunk_size=100, uniprot_num_fetch_threads=10)"
      ]
     },
     "execution_count": 11,
     "metadata": {},
     "output_type": "execute_result"
    }
   ],
   "source": [
    "cfg = DBConfig()\n",
    "cfg"
   ]
  },
  {
   "cell_type": "code",
   "execution_count": 12,
   "id": "af79a248-abae-4fe0-b94a-e38274f6121d",
   "metadata": {},
   "outputs": [
    {
     "data": {
      "text/plain": [
       "[ChainStructure(PK_2|548-802<-(O60674:A|1-1132)), ChainStructure(PK_3|851-1119<-(O60674:A|1-1132)), ChainStructure(PK_1|244-491<-(P00519:A|1-1130))]"
      ]
     },
     "execution_count": 12,
     "metadata": {},
     "output_type": "execute_result"
    }
   ],
   "source": [
    "pyhmm = PyHMMer(cfg.profile)\n",
    "domains = ChainList(pyhmm.annotate(\n",
    "    structures, \n",
    "    new_map_name=cfg.pk_map_name, \n",
    "    min_score=cfg.pk_min_score, \n",
    "    min_size=cfg.pk_min_str_domain_size, \n",
    "    min_cov_hmm=cfg.pk_min_cov_hmm, \n",
    "    min_cov_seq=cfg.pk_min_cov_seq\n",
    "))\n",
    "domains"
   ]
  },
  {
   "cell_type": "markdown",
   "id": "9401ab86-c91c-41b9-b78d-608abcd3afc2",
   "metadata": {},
   "source": [
    "We didn't have to use an additional variable for the extracted domains. Each subsequence is treated as a level of annotation corresponding to a sub-segment of an original sequence. Each `ChainStructure` in `structures` is modified in-place, where \"modification\" is simply assigning a `.child` attribute corresponding to the extracted domain."
   ]
  },
  {
   "cell_type": "code",
   "execution_count": 13,
   "id": "373802f5-00e1-4e4c-9c6d-4de5d7a462c9",
   "metadata": {},
   "outputs": [
    {
     "data": {
      "text/plain": [
       "[ChainStructure(PK_1|244-491<-(P00519:A|1-1130))]"
      ]
     },
     "execution_count": 13,
     "metadata": {},
     "output_type": "execute_result"
    }
   ],
   "source": [
    "s1 = structures[0]\n",
    "s1.children"
   ]
  },
  {
   "cell_type": "code",
   "execution_count": 14,
   "id": "6ebd2ef4-a610-4c7e-ac72-2e533e878141",
   "metadata": {},
   "outputs": [],
   "source": [
    "# Get the first level of annotation (.children of each structure)\n",
    "domains2 = next(structures.iter_children())"
   ]
  },
  {
   "cell_type": "code",
   "execution_count": 15,
   "id": "78d8a4ff-3ce5-478f-b646-e9ee41e093dd",
   "metadata": {},
   "outputs": [
    {
     "data": {
      "text/plain": [
       "[ChainStructure(PK_1|244-491<-(P00519:A|1-1130)), ChainStructure(PK_2|548-802<-(O60674:A|1-1132)), ChainStructure(PK_3|851-1119<-(O60674:A|1-1132))]"
      ]
     },
     "execution_count": 15,
     "metadata": {},
     "output_type": "execute_result"
    }
   ],
   "source": [
    "domains2"
   ]
  },
  {
   "cell_type": "markdown",
   "id": "c746e6a5-e4ee-4624-8139-d20b2976bb3b",
   "metadata": {},
   "source": [
    "## Calculating structural variables\n",
    "\n",
    "Next, we'll calculate structural variables on the annotated domains. The model itself provides a list of feature names necessary for the encompassed models. The cool part about `lXtractor`'s variables is the property `eval(var.id) == var`, i.e., each variable can be initialized through its string representation constructed via `.id` property. "
   ]
  },
  {
   "cell_type": "code",
   "execution_count": 16,
   "id": "7ed753fa-3334-41df-8758-02408497d9da",
   "metadata": {},
   "outputs": [],
   "source": [
    "def init_features(feature_names):\n",
    "    return list(map(eval, feature_names))"
   ]
  },
  {
   "cell_type": "code",
   "execution_count": 17,
   "id": "341ec6af-aaeb-451c-93e5-04c7b004b714",
   "metadata": {},
   "outputs": [
    {
     "name": "stderr",
     "output_type": "stream",
     "text": [
      "Trying to unpickle estimator LogisticRegression from version 1.1.2 when using version 1.2.2. This might lead to breaking code or invalid results. Use at your own risk. For more info please refer to:\n",
      "https://scikit-learn.org/stable/model_persistence.html#security-maintainability-limitations\n"
     ]
    }
   ],
   "source": [
    "dfg, ka = load_dfg(), load_kinactive()"
   ]
  },
  {
   "cell_type": "code",
   "execution_count": 18,
   "id": "18d85c3b-5e3d-4631-a0f1-c6673b226076",
   "metadata": {},
   "outputs": [
    {
     "name": "stdout",
     "output_type": "stream",
     "text": [
      "Variables: [\"Dist(p1=125,p2=141,a1='CB',a2='CB',com=False)\", \"Dist(p1=78,p2=142,a1='CB',a2='CZ',com=False)\", 'PseudoDihedral(p1=158,p2=159,p3=160,p4=161)', 'PseudoDihedral(p1=102,p2=103,p3=104,p4=105)', \"Dist(p1=14,p2=142,a1='CB',a2='CB',com=False)\"], ... (234)\n"
     ]
    },
    {
     "data": {
      "text/plain": [
       "[Dist(p1=125,p2=141,a1='CB',a2='CB',com=False),\n",
       " Dist(p1=78,p2=142,a1='CB',a2='CZ',com=False),\n",
       " PseudoDihedral(p1=158,p2=159,p3=160,p4=161),\n",
       " PseudoDihedral(p1=102,p2=103,p3=104,p4=105),\n",
       " Dist(p1=14,p2=142,a1='CB',a2='CB',com=False)]"
      ]
     },
     "execution_count": 18,
     "metadata": {},
     "output_type": "execute_result"
    }
   ],
   "source": [
    "var_names = list(set(dfg.dfg_features) | set(ka.features))\n",
    "print(f'Variables: {var_names[:5]}, ... ({len(var_names)})')\n",
    "features = init_features(var_names)\n",
    "features[:5]"
   ]
  },
  {
   "cell_type": "markdown",
   "id": "06bbe9c7-74ed-4ee1-a017-38dd03b3df6a",
   "metadata": {},
   "source": [
    "We'll supply the chains and features into a `calculate` method that will handle variables' calculation and aggregation into a single table. A very important argument here is the `map_name`: since feature positions are given in the PK HMM nodes' numbering, providing `map_name` is needed to supply the seq-to-HMM numbering mappings into the calculator. "
   ]
  },
  {
   "cell_type": "code",
   "execution_count": 19,
   "id": "43b83edd-5fc0-471f-8aeb-f4791fc85205",
   "metadata": {
    "scrolled": true
   },
   "outputs": [
    {
     "data": {
      "application/vnd.jupyter.widget-view+json": {
       "model_id": "7fa66169dcb8402c9d8146c5feab4ec7",
       "version_major": 2,
       "version_minor": 0
      },
      "text/plain": [
       "Aggregating variables: 0it [00:00, ?it/s]"
      ]
     },
     "metadata": {},
     "output_type": "display_data"
    },
    {
     "data": {
      "application/vnd.jupyter.widget-view+json": {
       "model_id": "7a18705385824373b111b8278d944192",
       "version_major": 2,
       "version_minor": 0
      },
      "text/plain": [
       "Staging calculations:   0%|          | 0/3 [00:00<?, ?it/s]"
      ]
     },
     "metadata": {},
     "output_type": "display_data"
    },
    {
     "data": {
      "application/vnd.jupyter.widget-view+json": {
       "model_id": "eb0218b63eb54e40ba3a77022e5520f1",
       "version_major": 2,
       "version_minor": 0
      },
      "text/plain": [
       "Calculating variables: 0it [00:00, ?it/s]"
      ]
     },
     "metadata": {},
     "output_type": "display_data"
    },
    {
     "data": {
      "text/plain": [
       "(3, 235)"
      ]
     },
     "execution_count": 19,
     "metadata": {},
     "output_type": "execute_result"
    }
   ],
   "source": [
    "vs = calculate(structures.collapse_children(), features, map_name=cfg.pk_map_name)\n",
    "vs.shape"
   ]
  },
  {
   "cell_type": "markdown",
   "id": "c4b1773b-af8b-4a35-8f20-d1b5ac749a9f",
   "metadata": {},
   "source": [
    "## Predicting the conformational labels\n",
    "\n",
    "As usual, given proper setup, this is the easiest part.\n",
    "\n",
    "The `predict` method will output raw numerical labels."
   ]
  },
  {
   "cell_type": "code",
   "execution_count": 20,
   "id": "fe4cec8e-8d67-40b2-92b4-3aa11e368455",
   "metadata": {},
   "outputs": [
    {
     "data": {
      "text/plain": [
       "(array([0, 0, 0]), array([1, 0, 1]))"
      ]
     },
     "execution_count": 20,
     "metadata": {},
     "output_type": "execute_result"
    }
   ],
   "source": [
    "dfg.predict(vs), ka.predict(vs)"
   ]
  },
  {
   "cell_type": "markdown",
   "id": "bc38d630-e1b4-444b-9a8e-3be397859419",
   "metadata": {},
   "source": [
    "For a complete result, we'll use the `vs` table with the `predict_full()` that will keep all intermediate variables and give them proper names."
   ]
  },
  {
   "cell_type": "code",
   "execution_count": 21,
   "id": "8cfe4a99-cadf-49c2-b39e-e971eade1ebb",
   "metadata": {},
   "outputs": [
    {
     "data": {
      "text/html": [
       "<div>\n",
       "<style scoped>\n",
       "    .dataframe tbody tr th:only-of-type {\n",
       "        vertical-align: middle;\n",
       "    }\n",
       "\n",
       "    .dataframe tbody tr th {\n",
       "        vertical-align: top;\n",
       "    }\n",
       "\n",
       "    .dataframe thead th {\n",
       "        text-align: right;\n",
       "    }\n",
       "</style>\n",
       "<table border=\"1\" class=\"dataframe\">\n",
       "  <thead>\n",
       "    <tr style=\"text-align: right;\">\n",
       "      <th></th>\n",
       "      <th>ObjectID</th>\n",
       "      <th>in_proba</th>\n",
       "      <th>out_proba</th>\n",
       "      <th>other_proba</th>\n",
       "      <th>in_meta_proba</th>\n",
       "      <th>out_meta_prob</th>\n",
       "      <th>other_meta_prob</th>\n",
       "      <th>DFG_cls_pred</th>\n",
       "      <th>DFG_pred</th>\n",
       "      <th>IsActive</th>\n",
       "    </tr>\n",
       "  </thead>\n",
       "  <tbody>\n",
       "    <tr>\n",
       "      <th>0</th>\n",
       "      <td>ChainStructure(PK_1|244-491&lt;-(P00519:A|1-1130))</td>\n",
       "      <td>0.999849</td>\n",
       "      <td>0.000307</td>\n",
       "      <td>0.000676</td>\n",
       "      <td>1.0</td>\n",
       "      <td>0.0</td>\n",
       "      <td>0.0</td>\n",
       "      <td>0</td>\n",
       "      <td>in</td>\n",
       "      <td>True</td>\n",
       "    </tr>\n",
       "    <tr>\n",
       "      <th>1</th>\n",
       "      <td>ChainStructure(PK_2|548-802&lt;-(O60674:A|1-1132))</td>\n",
       "      <td>0.999385</td>\n",
       "      <td>0.000646</td>\n",
       "      <td>0.005701</td>\n",
       "      <td>1.0</td>\n",
       "      <td>0.0</td>\n",
       "      <td>0.0</td>\n",
       "      <td>0</td>\n",
       "      <td>in</td>\n",
       "      <td>False</td>\n",
       "    </tr>\n",
       "    <tr>\n",
       "      <th>2</th>\n",
       "      <td>ChainStructure(PK_3|851-1119&lt;-(O60674:A|1-1132))</td>\n",
       "      <td>0.999801</td>\n",
       "      <td>0.000365</td>\n",
       "      <td>0.000655</td>\n",
       "      <td>1.0</td>\n",
       "      <td>0.0</td>\n",
       "      <td>0.0</td>\n",
       "      <td>0</td>\n",
       "      <td>in</td>\n",
       "      <td>True</td>\n",
       "    </tr>\n",
       "  </tbody>\n",
       "</table>\n",
       "</div>"
      ],
      "text/plain": [
       "                                           ObjectID  in_proba  out_proba   \n",
       "0   ChainStructure(PK_1|244-491<-(P00519:A|1-1130))  0.999849   0.000307  \\\n",
       "1   ChainStructure(PK_2|548-802<-(O60674:A|1-1132))  0.999385   0.000646   \n",
       "2  ChainStructure(PK_3|851-1119<-(O60674:A|1-1132))  0.999801   0.000365   \n",
       "\n",
       "   other_proba  in_meta_proba  out_meta_prob  other_meta_prob  DFG_cls_pred   \n",
       "0     0.000676            1.0            0.0              0.0             0  \\\n",
       "1     0.005701            1.0            0.0              0.0             0   \n",
       "2     0.000655            1.0            0.0              0.0             0   \n",
       "\n",
       "  DFG_pred  IsActive  \n",
       "0       in      True  \n",
       "1       in     False  \n",
       "2       in      True  "
      ]
     },
     "execution_count": 21,
     "metadata": {},
     "output_type": "execute_result"
    }
   ],
   "source": [
    "vs = dfg.predict_full(vs)  # Predict all DFG labels\n",
    "vs['ObjectID'] = [c.id for c in structures.collapse_children()]  # Add object IDs\n",
    "vs['IsActive'] = ka.predict(vs).astype(bool)  # Predict Active/Inactive\n",
    "vs[[c for c in vs.columns if '(' not in c]]  # Check the predictions"
   ]
  },
  {
   "cell_type": "markdown",
   "id": "ea95700f-3049-46c2-bc9f-0f1093ee7887",
   "metadata": {},
   "source": [
    "## Saving the data"
   ]
  },
  {
   "cell_type": "code",
   "execution_count": 22,
   "id": "f9a5d712-f858-4aad-9694-b3f6ea7d1f3a",
   "metadata": {},
   "outputs": [],
   "source": [
    "BASE = Path('where/to/save')\n",
    "BASE.mkdir(exist_ok=True, parents=True)"
   ]
  },
  {
   "cell_type": "markdown",
   "id": "1bb4c541-94c4-4ba4-84a6-902b46e44b69",
   "metadata": {},
   "source": [
    "`vs` now contains both calculated variables and predictions."
   ]
  },
  {
   "cell_type": "code",
   "execution_count": 23,
   "id": "4222ca1a-abcc-4497-bafa-8119b6ef9677",
   "metadata": {},
   "outputs": [],
   "source": [
    "vs.to_csv(BASE / 'vs_and_pred.csv', index=False)"
   ]
  },
  {
   "cell_type": "markdown",
   "id": "cd03fea5-d7d5-4867-a72e-64d469dbcc44",
   "metadata": {},
   "source": [
    "To save the extracted domains, we'll use `ChainIO` class. The key here is that each `Chain*`-type objects defines the `.save` method. `ChainIO.write` accepts keyword arguments passed to `.save`. By default, the annotations are not saved. One can enable saving all extracted child structures by providing `write_children=True`)."
   ]
  },
  {
   "cell_type": "code",
   "execution_count": 24,
   "id": "3274d541-0b22-4c84-9301-74862bae1b25",
   "metadata": {},
   "outputs": [
    {
     "data": {
      "application/vnd.jupyter.widget-view+json": {
       "model_id": "5e3e42b1330341f4b4109c11fd667c61",
       "version_major": 2,
       "version_minor": 0
      },
      "text/plain": [
       "Writing objects: 0it [00:00, ?it/s]"
      ]
     },
     "metadata": {},
     "output_type": "display_data"
    },
    {
     "data": {
      "text/plain": [
       "[PosixPath('where/to/save/lXt/ChainStructure(P00519:A|1-1130)'),\n",
       " PosixPath('where/to/save/lXt/ChainStructure(O60674:A|1-1132)')]"
      ]
     },
     "execution_count": 24,
     "metadata": {},
     "output_type": "execute_result"
    }
   ],
   "source": [
    "io = ChainIO(verbose=True)\n",
    "list(io.write(structures, BASE / 'lXt', write_children=True))"
   ]
  },
  {
   "cell_type": "code",
   "execution_count": 25,
   "id": "ea94699e-b05d-4a1c-9f22-84bac9918ee2",
   "metadata": {},
   "outputs": [
    {
     "name": "stdout",
     "output_type": "stream",
     "text": [
      "\u001b[01;34mwhere/to/save\u001b[0m\n",
      "├── \u001b[01;34mlXt\u001b[0m\n",
      "│   ├── \u001b[01;34mChainStructure(O60674:A|1-1132)\u001b[0m\n",
      "│   │   ├── meta.tsv\n",
      "│   │   ├── \u001b[01;34msegments\u001b[0m\n",
      "│   │   │   ├── \u001b[01;34mPK_2\u001b[0m\n",
      "│   │   │   │   ├── meta.tsv\n",
      "│   │   │   │   ├── sequence.tsv\n",
      "│   │   │   │   └── structure.cif\n",
      "│   │   │   └── \u001b[01;34mPK_3\u001b[0m\n",
      "│   │   │       ├── meta.tsv\n",
      "│   │   │       ├── sequence.tsv\n",
      "│   │   │       └── structure.cif\n",
      "│   │   ├── sequence.tsv\n",
      "│   │   └── structure.cif\n",
      "│   └── \u001b[01;34mChainStructure(P00519:A|1-1130)\u001b[0m\n",
      "│       ├── meta.tsv\n",
      "│       ├── \u001b[01;34msegments\u001b[0m\n",
      "│       │   └── \u001b[01;34mPK_1\u001b[0m\n",
      "│       │       ├── meta.tsv\n",
      "│       │       ├── sequence.tsv\n",
      "│       │       └── structure.cif\n",
      "│       ├── sequence.tsv\n",
      "│       └── structure.cif\n",
      "└── vs_and_pred.csv\n",
      "\n",
      "8 directories, 16 files\n"
     ]
    }
   ],
   "source": [
    "! tree where/to/save"
   ]
  },
  {
   "cell_type": "markdown",
   "id": "660be912-1c10-49bc-acd0-67f6cb72c312",
   "metadata": {},
   "source": [
    "One can use the same `io` object to load the data. We'll also load child segments by setting `search_children=True`."
   ]
  },
  {
   "cell_type": "code",
   "execution_count": 26,
   "id": "4192d9a0-d3bb-4533-9ec3-21e7039cf275",
   "metadata": {},
   "outputs": [
    {
     "data": {
      "application/vnd.jupyter.widget-view+json": {
       "model_id": "5f20b1b595864e59a726e7d8108cddb1",
       "version_major": 2,
       "version_minor": 0
      },
      "text/plain": [
       "Reading ChainStructure: 0it [00:00, ?it/s]"
      ]
     },
     "metadata": {},
     "output_type": "display_data"
    }
   ],
   "source": [
    "loaded = ChainList(io.read_chain_str(BASE / 'lXt', search_children=True)).apply(recover_tree)"
   ]
  },
  {
   "cell_type": "code",
   "execution_count": 27,
   "id": "9eff63e2-4f89-487a-b87f-a34fdb391ae1",
   "metadata": {},
   "outputs": [
    {
     "data": {
      "text/plain": [
       "[ChainStructure(O60674:A|1-1132), ChainStructure(P00519:A|1-1130)]"
      ]
     },
     "execution_count": 27,
     "metadata": {},
     "output_type": "execute_result"
    }
   ],
   "source": [
    "loaded "
   ]
  },
  {
   "cell_type": "code",
   "execution_count": 28,
   "id": "951056b1-3565-4dd8-9bf9-2931a2df048f",
   "metadata": {},
   "outputs": [
    {
     "data": {
      "text/plain": [
       "[ChainStructure(PK_3|851-1119<-(O60674:A|1-1132)), ChainStructure(PK_2|548-802<-(O60674:A|1-1132)), ChainStructure(PK_1|244-491<-(P00519:A|1-1130))]"
      ]
     },
     "execution_count": 28,
     "metadata": {},
     "output_type": "execute_result"
    }
   ],
   "source": [
    "loaded.collapse_children()"
   ]
  },
  {
   "cell_type": "markdown",
   "id": "74f039cf-513e-418e-9e05-fd1aca8ca939",
   "metadata": {},
   "source": [
    "## Conclusion\n",
    "\n",
    "In this tutorial, we went through a simplified pipeline of extracting and annotating PK domains from two AlphaFold-predicted structures. The key difference with the `lXt-PK` data collection is that the latter also employed canonical UniProt sequences and worked with `Chain`-type objects. These encapsulate both the canonical sequence under `.seq` and a `ChainList` of associated structures under `.structures`.\n",
    "\n",
    "This tutorial may serve as an entry point for those wishing to create a collection of PK domains and derive their DFG and Active/Inactive labels. Users may change the initial data and customize the process, play around with intermediate data and so on. If you struggle or find a bug, feel free [to raise an issue]()."
   ]
  },
  {
   "cell_type": "code",
   "execution_count": 29,
   "id": "618e68cd-120a-41c8-a250-537d140a2af5",
   "metadata": {},
   "outputs": [],
   "source": [
    "! rm -r where/to/save"
   ]
  }
 ],
 "metadata": {
  "kernelspec": {
   "display_name": "kinactive",
   "language": "python",
   "name": "kinactive"
  },
  "language_info": {
   "codemirror_mode": {
    "name": "ipython",
    "version": 3
   },
   "file_extension": ".py",
   "mimetype": "text/x-python",
   "name": "python",
   "nbconvert_exporter": "python",
   "pygments_lexer": "ipython3",
   "version": "3.10.11"
  }
 },
 "nbformat": 4,
 "nbformat_minor": 5
}
